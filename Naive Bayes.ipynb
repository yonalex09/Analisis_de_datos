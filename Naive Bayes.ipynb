{
  "nbformat": 4,
  "nbformat_minor": 0,
  "metadata": {
    "colab": {
      "provenance": [],
      "authorship_tag": "ABX9TyNUkdSGAH6XYfzHSKOSdBYp",
      "include_colab_link": true
    },
    "kernelspec": {
      "name": "python3",
      "display_name": "Python 3"
    },
    "language_info": {
      "name": "python"
    }
  },
  "cells": [
    {
      "cell_type": "markdown",
      "metadata": {
        "id": "view-in-github",
        "colab_type": "text"
      },
      "source": [
        "<a href=\"https://colab.research.google.com/github/yonalex09/Analisis_de_datos/blob/main/Naive%20Bayes.ipynb\" target=\"_parent\"><img src=\"https://colab.research.google.com/assets/colab-badge.svg\" alt=\"Open In Colab\"/></a>"
      ]
    },
    {
      "cell_type": "code",
      "execution_count": 5,
      "metadata": {
        "colab": {
          "base_uri": "https://localhost:8080/",
          "height": 574
        },
        "id": "3IG29HERhPRc",
        "outputId": "cbcbb6d6-688f-442b-8b80-a93cf5a85a16"
      },
      "outputs": [
        {
          "output_type": "stream",
          "name": "stdout",
          "text": [
            "         date      country  new_cases  new_deaths  total_cases  total_deaths\n",
            "0  2019-12-31  Afghanistan          0           0            0             0\n",
            "1  2020-01-01  Afghanistan          0           0            0             0\n",
            "2  2020-01-02  Afghanistan          0           0            0             0\n",
            "3  2020-01-03  Afghanistan          0           0            0             0\n",
            "4  2020-01-04  Afghanistan          0           0            0             0\n",
            "Precisión:  0.8025956284153005\n"
          ]
        },
        {
          "output_type": "display_data",
          "data": {
            "text/plain": [
              "<Figure size 640x480 with 1 Axes>"
            ],
            "image/png": "[encoded data removed]"
          },
          "metadata": {}
        }
      ],
      "source": [
        "import pandas as pd\n",
        "from sklearn.naive_bayes import GaussianNB\n",
        "from sklearn.metrics import accuracy_score\n",
        "from sklearn.model_selection import train_test_split\n",
        "import matplotlib.pyplot as plt\n",
        "from sklearn.preprocessing import LabelEncoder\n",
        "\n",
        "# Cargar y explorar los datos\n",
        "df = pd.read_csv('https://raw.githubusercontent.com/yonalex09/Analisis_de_datos/main/covid.csv')\n",
        "print(df.head())\n",
        "\n",
        "# Convertir la columna 'date_confirmation' en valores numéricos\n",
        "le = LabelEncoder()\n",
        "for col in df.columns:\n",
        "    if df[col].dtype == 'object':\n",
        "        df[col] = le.fit_transform(df[col])\n",
        "\n",
        "# Preparar los datos\n",
        "X = df.drop('total_deaths', axis=1)\n",
        "y = df['total_deaths']\n",
        "\n",
        "# Dividir los datos\n",
        "X_train, X_test, y_train, y_test = train_test_split(X, y, test_size=0.2, random_state=42)\n",
        "\n",
        "# Entrenar y evaluar el modelo\n",
        "nb = GaussianNB()\n",
        "nb.fit(X_train, y_train)\n",
        "y_pred = nb.predict(X_test)\n",
        "accuracy = accuracy_score(y_test, y_pred)\n",
        "print(\"Precisión: \", accuracy)\n",
        "\n",
        "# Visualizar los resultados\n",
        "plt.bar(['Precisión'], [accuracy])\n",
        "plt.title('Precisión del modelo')\n",
        "plt.show()\n"
      ]
    }
  ]
}