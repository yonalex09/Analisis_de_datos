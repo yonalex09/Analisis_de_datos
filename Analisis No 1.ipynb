import pandas as pd

url = "https://raw.githubusercontent.com/yonalex09/Analisis_de_datos/main/Sample%20-%20Superstore.csv"
df = pd.read_csv(url)

print(df.head(5))
